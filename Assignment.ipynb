{
 "cells": [
  {
   "cell_type": "code",
   "execution_count": 57,
   "id": "80e2c1d1",
   "metadata": {},
   "outputs": [
    {
     "name": "stdout",
     "output_type": "stream",
     "text": [
      "X: (22083, 26)\n",
      "Output size:  (22083, 2)\n"
     ]
    }
   ],
   "source": [
    "import pandas as pd\n",
    "import numpy as np\n",
    "\n",
    "# Load the csv file\n",
    "df = pd.read_csv('C:\\\\Users\\\\User\\\\Desktop\\\\Machine Learning\\\\Assignment\\\\train.csv')\n",
    "\n",
    "# Manage the x and y features\n",
    "X = df.drop(['Patient Id', 'Patient First Name', 'Family Name', 'Father\\'s name', 'Institute Name', 'Location of Institute', 'Status', 'Test 1', 'Test 2', 'Test 3', 'Test 4', 'Test 5',  'Parental consent', 'Follow-up', 'Place of birth', 'Assisted conception IVF/ART', 'No. of previous abortion', 'Genetic Disorder', 'Disorder Subclass'], axis=1)\n",
    "y = df[['Genetic Disorder', 'Disorder Subclass']]\n",
    "\n",
    "\n",
    "# Delete rows without target\n",
    "df.dropna(axis=0, subset=['Disorder Subclass'], inplace=True)\n",
    "\n",
    "# Check the shape of X and y features\n",
    "print('X:', X.shape) \n",
    "print('Output size: ', y.shape)\n"
   ]
  },
  {
   "cell_type": "code",
   "execution_count": 58,
   "id": "4b2387e9",
   "metadata": {
    "scrolled": true
   },
   "outputs": [
    {
     "name": "stdout",
     "output_type": "stream",
     "text": [
      "Total number of missing val in each columns for X features: \n",
      "Patient Age :  1427\n",
      "Genes in mother's side :  0\n",
      "Inherited from father :  306\n",
      "Maternal gene :  2810\n",
      "Paternal gene :  0\n",
      "Blood cell count (mcL) :  0\n",
      "Mother's age :  6036\n",
      "Father's age :  5986\n",
      "Respiratory Rate (breaths/min) :  2149\n",
      "Heart Rate (rates/min :  2113\n",
      "Gender :  2173\n",
      "Birth asphyxia :  2139\n",
      "Autopsy shows birth defect (if applicable) :  1026\n",
      "Folic acid details (peri-conceptional) :  2117\n",
      "H/O serious maternal illness :  2152\n",
      "H/O radiation exposure (x-ray) :  2153\n",
      "H/O substance abuse :  2195\n",
      "History of anomalies in previous pregnancies :  2172\n",
      "Birth defects :  2154\n",
      "White Blood cell count (thousand per microliter) :  2148\n",
      "Blood test result :  2145\n",
      "Symptom 1 :  2155\n",
      "Symptom 2 :  2222\n",
      "Symptom 3 :  2101\n",
      "Symptom 4 :  2113\n",
      "Symptom 5 :  2153\n"
     ]
    }
   ],
   "source": [
    "# Check the missing values for each column in X\n",
    "print('Total number of missing val in each columns for X features: ')\n",
    "for column in X.columns:\n",
    "        missing_values = X[column].isnull().sum()\n",
    "        print(f\"{column} :  {missing_values}\")"
   ]
  },
  {
   "cell_type": "code",
   "execution_count": 45,
   "id": "7ce95af3",
   "metadata": {},
   "outputs": [
    {
     "name": "stdout",
     "output_type": "stream",
     "text": [
      "Total number of missing val in each columns for y: \n",
      "Genetic Disorder :  2146\n",
      "Disorder Subclass :  2168\n"
     ]
    }
   ],
   "source": [
    "# Check the missing values for each column in y\n",
    "print('Total number of missing val in each columns for y: ')\n",
    "for column in y.columns:\n",
    "        missing_val = y[column].isnull().sum()\n",
    "        print(f\"{column} :  {missing_val}\")"
   ]
  },
  {
   "cell_type": "code",
   "execution_count": 59,
   "id": "94879918",
   "metadata": {},
   "outputs": [
    {
     "name": "stdout",
     "output_type": "stream",
     "text": [
      "<class 'pandas.core.frame.DataFrame'>\n",
      "RangeIndex: 22083 entries, 0 to 22082\n",
      "Data columns (total 26 columns):\n",
      " #   Column                                            Non-Null Count  Dtype  \n",
      "---  ------                                            --------------  -----  \n",
      " 0   Patient Age                                       20656 non-null  float64\n",
      " 1   Genes in mother's side                            22083 non-null  object \n",
      " 2   Inherited from father                             21777 non-null  object \n",
      " 3   Maternal gene                                     19273 non-null  object \n",
      " 4   Paternal gene                                     22083 non-null  object \n",
      " 5   Blood cell count (mcL)                            22083 non-null  float64\n",
      " 6   Mother's age                                      16047 non-null  float64\n",
      " 7   Father's age                                      16097 non-null  float64\n",
      " 8   Respiratory Rate (breaths/min)                    19934 non-null  object \n",
      " 9   Heart Rate (rates/min                             19970 non-null  object \n",
      " 10  Gender                                            19910 non-null  object \n",
      " 11  Birth asphyxia                                    19944 non-null  object \n",
      " 12  Autopsy shows birth defect (if applicable)        21057 non-null  object \n",
      " 13  Folic acid details (peri-conceptional)            19966 non-null  object \n",
      " 14  H/O serious maternal illness                      19931 non-null  object \n",
      " 15  H/O radiation exposure (x-ray)                    19930 non-null  object \n",
      " 16  H/O substance abuse                               19888 non-null  object \n",
      " 17  History of anomalies in previous pregnancies      19911 non-null  object \n",
      " 18  Birth defects                                     19929 non-null  object \n",
      " 19  White Blood cell count (thousand per microliter)  19935 non-null  float64\n",
      " 20  Blood test result                                 19938 non-null  object \n",
      " 21  Symptom 1                                         19928 non-null  float64\n",
      " 22  Symptom 2                                         19861 non-null  float64\n",
      " 23  Symptom 3                                         19982 non-null  float64\n",
      " 24  Symptom 4                                         19970 non-null  float64\n",
      " 25  Symptom 5                                         19930 non-null  float64\n",
      "dtypes: float64(10), object(16)\n",
      "memory usage: 4.4+ MB\n"
     ]
    }
   ],
   "source": [
    "X.info()"
   ]
  },
  {
   "cell_type": "code",
   "execution_count": 47,
   "id": "1db8ba19",
   "metadata": {},
   "outputs": [
    {
     "name": "stdout",
     "output_type": "stream",
     "text": [
      "<class 'pandas.core.frame.DataFrame'>\n",
      "RangeIndex: 22083 entries, 0 to 22082\n",
      "Data columns (total 2 columns):\n",
      " #   Column             Non-Null Count  Dtype \n",
      "---  ------             --------------  ----- \n",
      " 0   Genetic Disorder   19937 non-null  object\n",
      " 1   Disorder Subclass  19915 non-null  object\n",
      "dtypes: object(2)\n",
      "memory usage: 345.2+ KB\n"
     ]
    }
   ],
   "source": [
    "y.info()"
   ]
  },
  {
   "cell_type": "code",
   "execution_count": 54,
   "id": "fa14cf2e",
   "metadata": {},
   "outputs": [
    {
     "data": {
      "text/html": [
       "<div>\n",
       "<style scoped>\n",
       "    .dataframe tbody tr th:only-of-type {\n",
       "        vertical-align: middle;\n",
       "    }\n",
       "\n",
       "    .dataframe tbody tr th {\n",
       "        vertical-align: top;\n",
       "    }\n",
       "\n",
       "    .dataframe thead th {\n",
       "        text-align: right;\n",
       "    }\n",
       "</style>\n",
       "<table border=\"1\" class=\"dataframe\">\n",
       "  <thead>\n",
       "    <tr style=\"text-align: right;\">\n",
       "      <th></th>\n",
       "      <th>count</th>\n",
       "      <th>unique</th>\n",
       "      <th>top</th>\n",
       "      <th>freq</th>\n",
       "    </tr>\n",
       "  </thead>\n",
       "  <tbody>\n",
       "    <tr>\n",
       "      <th>Patient Id</th>\n",
       "      <td>22083</td>\n",
       "      <td>22083</td>\n",
       "      <td>PID0x6418</td>\n",
       "      <td>1</td>\n",
       "    </tr>\n",
       "    <tr>\n",
       "      <th>Genes in mother's side</th>\n",
       "      <td>22083</td>\n",
       "      <td>2</td>\n",
       "      <td>Yes</td>\n",
       "      <td>13143</td>\n",
       "    </tr>\n",
       "    <tr>\n",
       "      <th>Inherited from father</th>\n",
       "      <td>21777</td>\n",
       "      <td>2</td>\n",
       "      <td>No</td>\n",
       "      <td>13133</td>\n",
       "    </tr>\n",
       "    <tr>\n",
       "      <th>Maternal gene</th>\n",
       "      <td>19273</td>\n",
       "      <td>2</td>\n",
       "      <td>Yes</td>\n",
       "      <td>10647</td>\n",
       "    </tr>\n",
       "    <tr>\n",
       "      <th>Paternal gene</th>\n",
       "      <td>22083</td>\n",
       "      <td>2</td>\n",
       "      <td>No</td>\n",
       "      <td>12508</td>\n",
       "    </tr>\n",
       "    <tr>\n",
       "      <th>Patient First Name</th>\n",
       "      <td>22083</td>\n",
       "      <td>2524</td>\n",
       "      <td>James</td>\n",
       "      <td>420</td>\n",
       "    </tr>\n",
       "    <tr>\n",
       "      <th>Family Name</th>\n",
       "      <td>12392</td>\n",
       "      <td>6282</td>\n",
       "      <td>Smith</td>\n",
       "      <td>157</td>\n",
       "    </tr>\n",
       "    <tr>\n",
       "      <th>Father's name</th>\n",
       "      <td>22083</td>\n",
       "      <td>16368</td>\n",
       "      <td>Clardie</td>\n",
       "      <td>6</td>\n",
       "    </tr>\n",
       "    <tr>\n",
       "      <th>Institute Name</th>\n",
       "      <td>16977</td>\n",
       "      <td>27</td>\n",
       "      <td>Not applicable</td>\n",
       "      <td>8440</td>\n",
       "    </tr>\n",
       "    <tr>\n",
       "      <th>Location of Institute</th>\n",
       "      <td>22083</td>\n",
       "      <td>26</td>\n",
       "      <td>-</td>\n",
       "      <td>10931</td>\n",
       "    </tr>\n",
       "    <tr>\n",
       "      <th>Status</th>\n",
       "      <td>22083</td>\n",
       "      <td>2</td>\n",
       "      <td>Alive</td>\n",
       "      <td>11083</td>\n",
       "    </tr>\n",
       "    <tr>\n",
       "      <th>Respiratory Rate (breaths/min)</th>\n",
       "      <td>19934</td>\n",
       "      <td>2</td>\n",
       "      <td>Normal (30-60)</td>\n",
       "      <td>10065</td>\n",
       "    </tr>\n",
       "    <tr>\n",
       "      <th>Heart Rate (rates/min</th>\n",
       "      <td>19970</td>\n",
       "      <td>2</td>\n",
       "      <td>Normal</td>\n",
       "      <td>10187</td>\n",
       "    </tr>\n",
       "    <tr>\n",
       "      <th>Parental consent</th>\n",
       "      <td>19958</td>\n",
       "      <td>1</td>\n",
       "      <td>Yes</td>\n",
       "      <td>19958</td>\n",
       "    </tr>\n",
       "    <tr>\n",
       "      <th>Follow-up</th>\n",
       "      <td>19917</td>\n",
       "      <td>2</td>\n",
       "      <td>Low</td>\n",
       "      <td>10040</td>\n",
       "    </tr>\n",
       "    <tr>\n",
       "      <th>Gender</th>\n",
       "      <td>19910</td>\n",
       "      <td>3</td>\n",
       "      <td>Ambiguous</td>\n",
       "      <td>6695</td>\n",
       "    </tr>\n",
       "    <tr>\n",
       "      <th>Birth asphyxia</th>\n",
       "      <td>19944</td>\n",
       "      <td>4</td>\n",
       "      <td>Yes</td>\n",
       "      <td>5106</td>\n",
       "    </tr>\n",
       "    <tr>\n",
       "      <th>Autopsy shows birth defect (if applicable)</th>\n",
       "      <td>21057</td>\n",
       "      <td>4</td>\n",
       "      <td>Not applicable</td>\n",
       "      <td>11083</td>\n",
       "    </tr>\n",
       "    <tr>\n",
       "      <th>Place of birth</th>\n",
       "      <td>19959</td>\n",
       "      <td>2</td>\n",
       "      <td>Institute</td>\n",
       "      <td>10073</td>\n",
       "    </tr>\n",
       "    <tr>\n",
       "      <th>Folic acid details (peri-conceptional)</th>\n",
       "      <td>19966</td>\n",
       "      <td>2</td>\n",
       "      <td>Yes</td>\n",
       "      <td>10087</td>\n",
       "    </tr>\n",
       "    <tr>\n",
       "      <th>H/O serious maternal illness</th>\n",
       "      <td>19931</td>\n",
       "      <td>2</td>\n",
       "      <td>No</td>\n",
       "      <td>10012</td>\n",
       "    </tr>\n",
       "    <tr>\n",
       "      <th>H/O radiation exposure (x-ray)</th>\n",
       "      <td>19930</td>\n",
       "      <td>4</td>\n",
       "      <td>Not applicable</td>\n",
       "      <td>5029</td>\n",
       "    </tr>\n",
       "    <tr>\n",
       "      <th>H/O substance abuse</th>\n",
       "      <td>19888</td>\n",
       "      <td>4</td>\n",
       "      <td>-</td>\n",
       "      <td>5042</td>\n",
       "    </tr>\n",
       "    <tr>\n",
       "      <th>Assisted conception IVF/ART</th>\n",
       "      <td>19961</td>\n",
       "      <td>2</td>\n",
       "      <td>Yes</td>\n",
       "      <td>10012</td>\n",
       "    </tr>\n",
       "    <tr>\n",
       "      <th>History of anomalies in previous pregnancies</th>\n",
       "      <td>19911</td>\n",
       "      <td>2</td>\n",
       "      <td>Yes</td>\n",
       "      <td>10082</td>\n",
       "    </tr>\n",
       "    <tr>\n",
       "      <th>Birth defects</th>\n",
       "      <td>19929</td>\n",
       "      <td>2</td>\n",
       "      <td>Singular</td>\n",
       "      <td>9977</td>\n",
       "    </tr>\n",
       "    <tr>\n",
       "      <th>Blood test result</th>\n",
       "      <td>19938</td>\n",
       "      <td>4</td>\n",
       "      <td>slightly abnormal</td>\n",
       "      <td>5128</td>\n",
       "    </tr>\n",
       "    <tr>\n",
       "      <th>Genetic Disorder</th>\n",
       "      <td>19937</td>\n",
       "      <td>3</td>\n",
       "      <td>Mitochondrial genetic inheritance disorders</td>\n",
       "      <td>10202</td>\n",
       "    </tr>\n",
       "    <tr>\n",
       "      <th>Disorder Subclass</th>\n",
       "      <td>19915</td>\n",
       "      <td>9</td>\n",
       "      <td>Leigh syndrome</td>\n",
       "      <td>5160</td>\n",
       "    </tr>\n",
       "  </tbody>\n",
       "</table>\n",
       "</div>"
      ],
      "text/plain": [
       "                                              count unique  \\\n",
       "Patient Id                                    22083  22083   \n",
       "Genes in mother's side                        22083      2   \n",
       "Inherited from father                         21777      2   \n",
       "Maternal gene                                 19273      2   \n",
       "Paternal gene                                 22083      2   \n",
       "Patient First Name                            22083   2524   \n",
       "Family Name                                   12392   6282   \n",
       "Father's name                                 22083  16368   \n",
       "Institute Name                                16977     27   \n",
       "Location of Institute                         22083     26   \n",
       "Status                                        22083      2   \n",
       "Respiratory Rate (breaths/min)                19934      2   \n",
       "Heart Rate (rates/min                         19970      2   \n",
       "Parental consent                              19958      1   \n",
       "Follow-up                                     19917      2   \n",
       "Gender                                        19910      3   \n",
       "Birth asphyxia                                19944      4   \n",
       "Autopsy shows birth defect (if applicable)    21057      4   \n",
       "Place of birth                                19959      2   \n",
       "Folic acid details (peri-conceptional)        19966      2   \n",
       "H/O serious maternal illness                  19931      2   \n",
       "H/O radiation exposure (x-ray)                19930      4   \n",
       "H/O substance abuse                           19888      4   \n",
       "Assisted conception IVF/ART                   19961      2   \n",
       "History of anomalies in previous pregnancies  19911      2   \n",
       "Birth defects                                 19929      2   \n",
       "Blood test result                             19938      4   \n",
       "Genetic Disorder                              19937      3   \n",
       "Disorder Subclass                             19915      9   \n",
       "\n",
       "                                                                                      top  \\\n",
       "Patient Id                                                                      PID0x6418   \n",
       "Genes in mother's side                                                                Yes   \n",
       "Inherited from father                                                                  No   \n",
       "Maternal gene                                                                         Yes   \n",
       "Paternal gene                                                                          No   \n",
       "Patient First Name                                                                  James   \n",
       "Family Name                                                                         Smith   \n",
       "Father's name                                                                     Clardie   \n",
       "Institute Name                                                             Not applicable   \n",
       "Location of Institute                                                                   -   \n",
       "Status                                                                              Alive   \n",
       "Respiratory Rate (breaths/min)                                             Normal (30-60)   \n",
       "Heart Rate (rates/min                                                              Normal   \n",
       "Parental consent                                                                      Yes   \n",
       "Follow-up                                                                             Low   \n",
       "Gender                                                                          Ambiguous   \n",
       "Birth asphyxia                                                                        Yes   \n",
       "Autopsy shows birth defect (if applicable)                                 Not applicable   \n",
       "Place of birth                                                                  Institute   \n",
       "Folic acid details (peri-conceptional)                                                Yes   \n",
       "H/O serious maternal illness                                                           No   \n",
       "H/O radiation exposure (x-ray)                                             Not applicable   \n",
       "H/O substance abuse                                                                     -   \n",
       "Assisted conception IVF/ART                                                           Yes   \n",
       "History of anomalies in previous pregnancies                                          Yes   \n",
       "Birth defects                                                                    Singular   \n",
       "Blood test result                                                       slightly abnormal   \n",
       "Genetic Disorder                              Mitochondrial genetic inheritance disorders   \n",
       "Disorder Subclass                                                          Leigh syndrome   \n",
       "\n",
       "                                               freq  \n",
       "Patient Id                                        1  \n",
       "Genes in mother's side                        13143  \n",
       "Inherited from father                         13133  \n",
       "Maternal gene                                 10647  \n",
       "Paternal gene                                 12508  \n",
       "Patient First Name                              420  \n",
       "Family Name                                     157  \n",
       "Father's name                                     6  \n",
       "Institute Name                                 8440  \n",
       "Location of Institute                         10931  \n",
       "Status                                        11083  \n",
       "Respiratory Rate (breaths/min)                10065  \n",
       "Heart Rate (rates/min                         10187  \n",
       "Parental consent                              19958  \n",
       "Follow-up                                     10040  \n",
       "Gender                                         6695  \n",
       "Birth asphyxia                                 5106  \n",
       "Autopsy shows birth defect (if applicable)    11083  \n",
       "Place of birth                                10073  \n",
       "Folic acid details (peri-conceptional)        10087  \n",
       "H/O serious maternal illness                  10012  \n",
       "H/O radiation exposure (x-ray)                 5029  \n",
       "H/O substance abuse                            5042  \n",
       "Assisted conception IVF/ART                   10012  \n",
       "History of anomalies in previous pregnancies  10082  \n",
       "Birth defects                                  9977  \n",
       "Blood test result                              5128  \n",
       "Genetic Disorder                              10202  \n",
       "Disorder Subclass                              5160  "
      ]
     },
     "execution_count": 54,
     "metadata": {},
     "output_type": "execute_result"
    }
   ],
   "source": [
    "df.describe(include='object').T"
   ]
  },
  {
   "cell_type": "code",
   "execution_count": 51,
   "id": "b3b1c868",
   "metadata": {},
   "outputs": [
    {
     "name": "stdout",
     "output_type": "stream",
     "text": [
      "Column: Genes in mother's side\n",
      "Unique values: ['Yes' 'No']\n",
      "****************************************\n",
      "\n",
      "\n",
      "Column: Inherited from father\n",
      "Unique values: ['No' 'Yes' nan]\n",
      "****************************************\n",
      "\n",
      "\n",
      "Column: Maternal gene\n",
      "Unique values: ['Yes' 'No' nan]\n",
      "****************************************\n",
      "\n",
      "\n",
      "Column: Paternal gene\n",
      "Unique values: ['No' 'Yes']\n",
      "****************************************\n",
      "\n",
      "\n",
      "Column: Respiratory Rate (breaths/min)\n",
      "Unique values: ['Normal (30-60)' 'Tachypnea' nan]\n",
      "****************************************\n",
      "\n",
      "\n",
      "Column: Heart Rate (rates/min\n",
      "Unique values: ['Normal' 'Tachycardia' nan]\n",
      "****************************************\n",
      "\n",
      "\n",
      "Column: Gender\n",
      "Unique values: [nan 'Male' 'Female' 'Ambiguous']\n",
      "****************************************\n",
      "\n",
      "\n",
      "Column: Birth asphyxia\n",
      "Unique values: [nan 'No' 'No record' 'Not available' 'Yes']\n",
      "****************************************\n",
      "\n",
      "\n",
      "Column: Autopsy shows birth defect (if applicable)\n",
      "Unique values: ['Not applicable' 'None' 'No' 'Yes' nan]\n",
      "****************************************\n",
      "\n",
      "\n",
      "Column: Folic acid details (peri-conceptional)\n",
      "Unique values: ['No' 'Yes' nan]\n",
      "****************************************\n",
      "\n",
      "\n",
      "Column: H/O serious maternal illness\n",
      "Unique values: [nan 'Yes' 'No']\n",
      "****************************************\n",
      "\n",
      "\n",
      "Column: H/O radiation exposure (x-ray)\n",
      "Unique values: ['No' 'Not applicable' 'Yes' '-' nan]\n",
      "****************************************\n",
      "\n",
      "\n",
      "Column: H/O substance abuse\n",
      "Unique values: ['No' 'Not applicable' nan '-' 'Yes']\n",
      "****************************************\n",
      "\n",
      "\n",
      "Column: History of anomalies in previous pregnancies\n",
      "Unique values: ['Yes' 'No' nan]\n",
      "****************************************\n",
      "\n",
      "\n",
      "Column: Birth defects\n",
      "Unique values: [nan 'Multiple' 'Singular']\n",
      "****************************************\n",
      "\n",
      "\n",
      "Column: Blood test result\n",
      "Unique values: [nan 'normal' 'inconclusive' 'slightly abnormal' 'abnormal']\n",
      "****************************************\n",
      "\n",
      "\n"
     ]
    }
   ],
   "source": [
    "# Check unique values for each columns\n",
    "for col in X.columns:\n",
    "    if X[col].dtypes == 'object':\n",
    "        print(f'Column: {col}')\n",
    "        print(f'Unique values: {X[col].unique()}')\n",
    "        #print(X[col].value_counts())\n",
    "        print('*' * 40)\n",
    "        print('\\n')\n",
    "     "
   ]
  },
  {
   "cell_type": "code",
   "execution_count": 52,
   "id": "f3c71438",
   "metadata": {},
   "outputs": [
    {
     "name": "stdout",
     "output_type": "stream",
     "text": [
      "Column: Genetic Disorder\n",
      "Unique values: ['Mitochondrial genetic inheritance disorders' nan\n",
      " 'Multifactorial genetic inheritance disorders'\n",
      " 'Single-gene inheritance diseases']\n",
      "****************************************\n",
      "\n",
      "\n",
      "Column: Disorder Subclass\n",
      "Unique values: [\"Leber's hereditary optic neuropathy\" 'Cystic fibrosis' 'Diabetes'\n",
      " 'Leigh syndrome' 'Cancer' 'Tay-Sachs' 'Hemochromatosis'\n",
      " 'Mitochondrial myopathy' nan \"Alzheimer's\"]\n",
      "****************************************\n",
      "\n",
      "\n"
     ]
    }
   ],
   "source": [
    "# Check unique values for each columns\n",
    "for col in y.columns:\n",
    "    if y[col].dtypes == 'object':\n",
    "        print(f'Column: {col}')\n",
    "        print(f'Unique values: {y[col].unique()}')\n",
    "        #print(y[col].value_counts())\n",
    "        print('*' * 40)\n",
    "        print('\\n')\n",
    "     "
   ]
  },
  {
   "cell_type": "code",
   "execution_count": 68,
   "id": "edc077a7",
   "metadata": {},
   "outputs": [
    {
     "data": {
      "text/plain": [
       "['Patient Age',\n",
       " 'Blood cell count (mcL)',\n",
       " \"Mother's age\",\n",
       " \"Father's age\",\n",
       " 'White Blood cell count (thousand per microliter)',\n",
       " 'Symptom 1',\n",
       " 'Symptom 2',\n",
       " 'Symptom 3',\n",
       " 'Symptom 4',\n",
       " 'Symptom 5']"
      ]
     },
     "execution_count": 68,
     "metadata": {},
     "output_type": "execute_result"
    }
   ],
   "source": [
    "# Preparation for standardization\n",
    "num_col = [col for col in X if X[col].dtypes in ['int', 'float']]\n",
    "num_col  "
   ]
  },
  {
   "cell_type": "code",
   "execution_count": 69,
   "id": "38553cb0",
   "metadata": {},
   "outputs": [
    {
     "data": {
      "text/plain": [
       "['Symptom 1', 'Symptom 2', 'Symptom 3', 'Symptom 4', 'Symptom 5']"
      ]
     },
     "execution_count": 69,
     "metadata": {},
     "output_type": "execute_result"
    }
   ],
   "source": [
    "# List out the columns with output values of 0 and 1\n",
    "bin_col = [col for col in num_col if sorted(list(df[col].value_counts().index)) == [0, 1]]\n",
    "bin_col"
   ]
  },
  {
   "cell_type": "code",
   "execution_count": 70,
   "id": "39a3f62f",
   "metadata": {},
   "outputs": [
    {
     "data": {
      "text/plain": [
       "['Patient Age',\n",
       " 'Blood cell count (mcL)',\n",
       " \"Mother's age\",\n",
       " \"Father's age\",\n",
       " 'White Blood cell count (thousand per microliter)',\n",
       " 'Symptom 1',\n",
       " 'Symptom 2',\n",
       " 'Symptom 3',\n",
       " 'Symptom 4',\n",
       " 'Symptom 5']"
      ]
     },
     "execution_count": 70,
     "metadata": {},
     "output_type": "execute_result"
    }
   ],
   "source": [
    "col_to_standardized = num_col.copy()\n",
    "col_to_standardized"
   ]
  },
  {
   "cell_type": "code",
   "execution_count": 71,
   "id": "97f6e390",
   "metadata": {},
   "outputs": [
    {
     "data": {
      "text/plain": [
       "['Patient Age',\n",
       " 'Blood cell count (mcL)',\n",
       " \"Mother's age\",\n",
       " \"Father's age\",\n",
       " 'White Blood cell count (thousand per microliter)']"
      ]
     },
     "execution_count": 71,
     "metadata": {},
     "output_type": "execute_result"
    }
   ],
   "source": [
    "for i in bin_col:\n",
    "    col_to_standardized.remove(i)\n",
    "\n",
    "col_to_standardized"
   ]
  },
  {
   "cell_type": "markdown",
   "id": "27dbce80",
   "metadata": {},
   "source": [
    "# Data Preparation and Visualization"
   ]
  },
  {
   "cell_type": "code",
   "execution_count": 76,
   "id": "2f9451a6",
   "metadata": {},
   "outputs": [
    {
     "name": "stdout",
     "output_type": "stream",
     "text": [
      "\n",
      "\n"
     ]
    },
    {
     "data": {
      "text/plain": [
       "Leigh syndrome                         5160\n",
       "Mitochondrial myopathy                 4405\n",
       "Cystic fibrosis                        3448\n",
       "Tay-Sachs                              2833\n",
       "Diabetes                               1817\n",
       "Hemochromatosis                        1355\n",
       "Leber's hereditary optic neuropathy     648\n",
       "Alzheimer's                             152\n",
       "Cancer                                   97\n",
       "Name: Disorder Subclass, dtype: int64"
      ]
     },
     "execution_count": 76,
     "metadata": {},
     "output_type": "execute_result"
    },
    {
     "data": {
      "image/png": "[encoded data removed]",
      "text/plain": [
       "<Figure size 640x480 with 1 Axes>"
      ]
     },
     "metadata": {},
     "output_type": "display_data"
    }
   ],
   "source": [
    "df['Disorder Subclass'].value_counts().plot(kind='pie')\n",
    "print('\\n')\n",
    "df['Disorder Subclass'].value_counts()"
   ]
  },
  {
   "cell_type": "code",
   "execution_count": 79,
   "id": "2f5509c3",
   "metadata": {},
   "outputs": [
    {
     "name": "stdout",
     "output_type": "stream",
     "text": [
      "\n",
      "\n"
     ]
    },
    {
     "data": {
      "text/plain": [
       "Mitochondrial genetic inheritance disorders     9241\n",
       "Single-gene inheritance diseases                6929\n",
       "Multifactorial genetic inheritance disorders    1877\n",
       "Name: Genetic Disorder, dtype: int64"
      ]
     },
     "execution_count": 79,
     "metadata": {},
     "output_type": "execute_result"
    },
    {
     "data": {
      "image/png": "[encoded data removed]",
      "text/plain": [
       "<Figure size 640x480 with 1 Axes>"
      ]
     },
     "metadata": {},
     "output_type": "display_data"
    }
   ],
   "source": [
    "df['Genetic Disorder'].value_counts().plot(kind='pie')\n",
    "print('\\n')\n",
    "df['Genetic Disorder'].value_counts()"
   ]
  },
  {
   "cell_type": "code",
   "execution_count": null,
   "id": "118ab887",
   "metadata": {},
   "outputs": [],
   "source": []
  }
 ],
 "metadata": {
  "kernelspec": {
   "display_name": "Python 3 (ipykernel)",
   "language": "python",
   "name": "python3"
  },
  "language_info": {
   "codemirror_mode": {
    "name": "ipython",
    "version": 3
   },
   "file_extension": ".py",
   "mimetype": "text/x-python",
   "name": "python",
   "nbconvert_exporter": "python",
   "pygments_lexer": "ipython3",
   "version": "3.10.9"
  }
 },
 "nbformat": 4,
 "nbformat_minor": 5
}
